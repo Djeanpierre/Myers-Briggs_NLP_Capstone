{
 "cells": [
  {
   "cell_type": "code",
   "execution_count": 231,
   "id": "clinical-beatles",
   "metadata": {
    "executionInfo": {
     "elapsed": 681,
     "status": "ok",
     "timestamp": 1619649980145,
     "user": {
      "displayName": "Soon Chye Lim",
      "photoUrl": "",
      "userId": "02286047641686637328"
     },
     "user_tz": 420
    },
    "id": "cardiac-library"
   },
   "outputs": [],
   "source": [
    "import pandas as pd\n",
    "import random\n",
    "import numpy as np\n",
    "import matplotlib.pyplot as plt\n",
    "import seaborn as sns\n",
    "from nltk.corpus import stopwords\n",
    "from sklearn.feature_extraction.text import TfidfVectorizer\n",
    "from sklearn.model_selection import train_test_split \n",
    "from sklearn import metrics\n",
    "from sklearn.svm import SVC\n",
    "from sklearn.metrics import accuracy_score\n",
    "from sklearn.preprocessing import StandardScaler\n",
    "from sklearn.metrics import confusion_matrix\n",
    "from sklearn.metrics import classification_report"
   ]
  },
  {
   "cell_type": "code",
   "execution_count": 232,
   "id": "shared-jenny",
   "metadata": {},
   "outputs": [],
   "source": [
    "df= pd.read_pickle(\"ModelOneHots\")"
   ]
  },
  {
   "cell_type": "markdown",
   "id": "coordinate-theta",
   "metadata": {
    "id": "solved-hardwood"
   },
   "source": [
    "### SVM"
   ]
  },
  {
   "cell_type": "code",
   "execution_count": 233,
   "id": "prospective-dallas",
   "metadata": {},
   "outputs": [],
   "source": [
    "#Adjust figure size\n",
    "plt.rcParams['figure.dpi'] = 75"
   ]
  },
  {
   "cell_type": "code",
   "execution_count": 234,
   "id": "relevant-designer",
   "metadata": {},
   "outputs": [],
   "source": [
    "#Covert the one hots back into chars or you can leave it as onehots\n",
    "# df.loc[(df['I(1)/E'] == 1),'I(1)/E']='I'\n",
    "# df.loc[(df['I(1)/E'] == 0),'I(1)/E']='E'\n",
    "\n",
    "# df.loc[(df['N(1)/S'] == 1),'N(1)/S']='N'\n",
    "# df.loc[(df['N(1)/S'] == 0),'N(1)/S']='S'\n",
    "\n",
    "# df.loc[(df['P(1)/J'] == 1),'P(1)/J']='P'\n",
    "# df.loc[(df['P(1)/J'] == 0),'P(1)/J']='J'\n",
    "\n",
    "# df.loc[(df['F(1)/T'] == 1),'F(1)/T']='F'\n",
    "# df.loc[(df['F(1)/T'] == 0),'F(1)/T']='T'"
   ]
  },
  {
   "cell_type": "code",
   "execution_count": 235,
   "id": "european-scheduling",
   "metadata": {},
   "outputs": [],
   "source": [
    "#Spliting up the df to labels and features/onehots.\n",
    "#We will have multiple lables to identify: 'I(1)/E', 'N(1)/S', 'P(1)/J', 'F(1)/T'\n",
    "X = df.drop(['myerTypes','I(1)/E', 'N(1)/S', 'P(1)/J', 'F(1)/T'], axis =1) #This is your features/onehots. Remember to drop the labels\n",
    "myers = df['myerTypes']\n",
    "I_E = df['I(1)/E'] \n",
    "N_S = df['N(1)/S'] \n",
    "P_J = df['P(1)/J'] \n",
    "F_T = df['F(1)/T'] "
   ]
  },
  {
   "cell_type": "code",
   "execution_count": 236,
   "id": "configured-knowing",
   "metadata": {},
   "outputs": [],
   "source": [
    "# Train/Test for each individual pairs\n",
    "I_E_Xtrain, I_E_Xtest, I_E_Ytrain, I_E_Ytest = train_test_split(X, I_E, test_size = 0.2, random_state = 1)\n",
    "N_S_Xtrain, N_S_Xtest, N_S_Ytrain, N_S_Ytest = train_test_split(X, N_S, test_size = 0.2, random_state = 1)\n",
    "P_J_Xtrain, P_J_Xtest, P_J_Ytrain, P_J_Ytest = train_test_split(X, P_J, test_size = 0.2, random_state = 1)\n",
    "F_T_Xtrain, F_T_Xtest, F_T_Ytrain, F_T_Ytest = train_test_split(X, F_T, test_size = 0.2, random_state = 1)\n",
    "myers_Xtrain, myers_Xtest, myers_Ytrain, myers_Ytest = train_test_split(X, myers, test_size = 0.2, random_state = 1)"
   ]
  },
  {
   "cell_type": "code",
   "execution_count": 248,
   "id": "violent-police",
   "metadata": {},
   "outputs": [
    {
     "name": "stdout",
     "output_type": "stream",
     "text": [
      "SVM (rbf) for 16 personality: 0.4674\n",
      "Checking for Under or Over fitting:\n",
      "-Training set score: 0.8124\n",
      "-Test set score: 0.4674\n",
      "              precision    recall  f1-score   support\n",
      "\n",
      "        ENFJ       0.00      0.00      0.00        34\n",
      "        ENFP       0.48      0.29      0.36       147\n",
      "        ENTJ       1.00      0.02      0.04        49\n",
      "        ENTP       0.37      0.29      0.32       154\n",
      "        ESFJ       0.00      0.00      0.00        11\n",
      "        ESFP       0.00      0.00      0.00        11\n",
      "        ESTJ       0.00      0.00      0.00         6\n",
      "        ESTP       0.00      0.00      0.00        16\n",
      "        INFJ       0.44      0.63      0.52       280\n",
      "        INFP       0.52      0.79      0.62       375\n",
      "        INTJ       0.49      0.49      0.49       222\n",
      "        INTP       0.42      0.57      0.49       248\n",
      "        ISFJ       0.00      0.00      0.00        28\n",
      "        ISFP       0.00      0.00      0.00        48\n",
      "        ISTJ       0.00      0.00      0.00        47\n",
      "        ISTP       0.75      0.05      0.10        59\n",
      "\n",
      "    accuracy                           0.47      1735\n",
      "   macro avg       0.28      0.19      0.18      1735\n",
      "weighted avg       0.43      0.47      0.41      1735\n",
      "\n"
     ]
    },
    {
     "name": "stderr",
     "output_type": "stream",
     "text": [
      "C:\\ProgramData\\Anaconda3\\envs\\TensorFlowGPU\\lib\\site-packages\\sklearn\\metrics\\_classification.py:1245: UndefinedMetricWarning: Precision and F-score are ill-defined and being set to 0.0 in labels with no predicted samples. Use `zero_division` parameter to control this behavior.\n",
      "  _warn_prf(average, modifier, msg_start, len(result))\n",
      "C:\\ProgramData\\Anaconda3\\envs\\TensorFlowGPU\\lib\\site-packages\\sklearn\\metrics\\_classification.py:1245: UndefinedMetricWarning: Precision and F-score are ill-defined and being set to 0.0 in labels with no predicted samples. Use `zero_division` parameter to control this behavior.\n",
      "  _warn_prf(average, modifier, msg_start, len(result))\n",
      "C:\\ProgramData\\Anaconda3\\envs\\TensorFlowGPU\\lib\\site-packages\\sklearn\\metrics\\_classification.py:1245: UndefinedMetricWarning: Precision and F-score are ill-defined and being set to 0.0 in labels with no predicted samples. Use `zero_division` parameter to control this behavior.\n",
      "  _warn_prf(average, modifier, msg_start, len(result))\n"
     ]
    }
   ],
   "source": [
    "#Feature Scaling for All Types\n",
    "cols = myers_Xtrain.columns\n",
    "scaler = StandardScaler()\n",
    "X_train = scaler.fit_transform(myers_Xtrain)\n",
    "X_test = scaler.transform(myers_Xtest)\n",
    "#Return the scaled data to dataframe\n",
    "X_train = pd.DataFrame(X_train, columns=[cols])\n",
    "X_test = pd.DataFrame(X_test, columns=[cols])\n",
    "#View the df if needed:\n",
    "#X_train.describe()\n",
    "\n",
    "#Run SVM  'Radial Basis Function' default for I/E\n",
    "clf=SVC() #clf is classification we are assigning a classifer to it\n",
    "clf.fit(X_train, myers_Ytrain)  #Fitting the model to the classifer, remember X_train has been scaled and  Y_train is the label\n",
    "labelPredict=clf.predict(X_test) \n",
    "print('SVM (rbf) for 16 personality: {0:0.4f}'.format(accuracy_score(myers_Ytest, labelPredict))) \n",
    "\n",
    "#Checking for Overfitting or Underfitting \n",
    "#We might have to change the 1/0 to letters to check from predict\n",
    "print(\"Checking for Under or Over fitting:\")\n",
    "print('-Training set score: {:.4f}'.format(clf.score(X_train, myers_Ytrain)))\n",
    "print('-Test set score: {:.4f}'.format(clf.score(X_test, myers_Ytest)))\n",
    "#Precision and Recall\n",
    "print(classification_report(myers_Ytest, labelPredict))"
   ]
  },
  {
   "cell_type": "code",
   "execution_count": 237,
   "id": "textile-pharmacy",
   "metadata": {
    "executionInfo": {
     "elapsed": 521,
     "status": "ok",
     "timestamp": 1619650776458,
     "user": {
      "displayName": "Soon Chye Lim",
      "photoUrl": "",
      "userId": "02286047641686637328"
     },
     "user_tz": 420
    },
    "id": "invisible-format"
   },
   "outputs": [
    {
     "name": "stdout",
     "output_type": "stream",
     "text": [
      "SVM (rbf) for Introversion/Extraversion: 0.7654\n",
      "Checking for Under or Over fitting:\n",
      "-Training set score: 0.9072\n",
      "-Test set score: 0.7654\n",
      "Null accuracy score: 0.7533\n",
      "[[  38  390]\n",
      " [  17 1290]]\n",
      "              precision    recall  f1-score   support\n",
      "\n",
      "           E       0.69      0.09      0.16       428\n",
      "           I       0.77      0.99      0.86      1307\n",
      "\n",
      "    accuracy                           0.77      1735\n",
      "   macro avg       0.73      0.54      0.51      1735\n",
      "weighted avg       0.75      0.77      0.69      1735\n",
      "\n"
     ]
    },
    {
     "data": {
      "image/png": "[encoded data removed]",
      "text/plain": [
       "<Figure size 450x300 with 2 Axes>"
      ]
     },
     "metadata": {
      "needs_background": "light"
     },
     "output_type": "display_data"
    }
   ],
   "source": [
    "#Feature Scaling for Introversion and Extraversion\n",
    "cols = I_E_Xtrain.columns\n",
    "scaler = StandardScaler()\n",
    "X_train = scaler.fit_transform(I_E_Xtrain)\n",
    "X_test = scaler.transform(I_E_Xtest)\n",
    "#Return the scaled data to dataframe\n",
    "X_train = pd.DataFrame(X_train, columns=[cols])\n",
    "X_test = pd.DataFrame(X_test, columns=[cols])\n",
    "#View the df if needed:\n",
    "#X_train.describe()\n",
    "\n",
    "#Run SVM  'Radial Basis Function' default for I/E\n",
    "clf=SVC() #clf is classification we are assigning a classifer to it\n",
    "clf.fit(X_train, I_E_Ytrain)  #Fitting the model to the classifer, remember X_train has been scaled and  Y_train is the label\n",
    "labelPredict=clf.predict(X_test) \n",
    "print('SVM (rbf) for Introversion/Extraversion: {0:0.4f}'.format(accuracy_score(I_E_Ytest, labelPredict))) \n",
    "\n",
    "#Checking for Overfitting or Underfitting \n",
    "#We might have to change the 1/0 to letters to check from predict\n",
    "print(\"Checking for Under or Over fitting:\")\n",
    "print('-Training set score: {:.4f}'.format(clf.score(X_train, I_E_Ytrain)))\n",
    "print('-Test set score: {:.4f}'.format(clf.score(X_test, I_E_Ytest)))\n",
    "\n",
    "#Comparing our Model accuracy to null accuracy\n",
    "#print(I_E_Ytest.value_counts())  #Unhash if you want to see the distribution\n",
    "countI = I_E_Ytest.value_counts()[0]\n",
    "countE = I_E_Ytest.value_counts()[1]\n",
    "null = (countI/(countI+countE))\n",
    "print('Null accuracy score: {0:0.4f}'.format(null))\n",
    "#Confusion Matrix:\n",
    "IEcm = confusion_matrix(I_E_Ytest, labelPredict)\n",
    "print(IEcm)\n",
    "cmMatrix = pd.DataFrame(data=IEcm, columns=['Actual Positive :1', 'Actual Negative:0'], \n",
    "                                 index=['Predict Positive: 1', 'Predict Negative: 0'])\n",
    "sns.heatmap(cmMatrix, annot=True, fmt='d', cmap='PuBuGn')\n",
    "#Precision and Recall\n",
    "print(classification_report(I_E_Ytest, labelPredict))"
   ]
  },
  {
   "cell_type": "code",
   "execution_count": 238,
   "id": "effective-choice",
   "metadata": {},
   "outputs": [
    {
     "name": "stdout",
     "output_type": "stream",
     "text": [
      "SVM (rbf) for I(N)tuition/Sensing: 0.8697\n",
      "Checking for Under or Over fitting:\n",
      "-Training set score: 0.8729\n",
      "-Test set score: 0.8697\n",
      "Null accuracy score: 0.8697\n",
      "[[1509    0]\n",
      " [ 226    0]]\n",
      "              precision    recall  f1-score   support\n",
      "\n",
      "           N       0.87      1.00      0.93      1509\n",
      "           S       0.00      0.00      0.00       226\n",
      "\n",
      "    accuracy                           0.87      1735\n",
      "   macro avg       0.43      0.50      0.47      1735\n",
      "weighted avg       0.76      0.87      0.81      1735\n",
      "\n"
     ]
    },
    {
     "name": "stderr",
     "output_type": "stream",
     "text": [
      "C:\\ProgramData\\Anaconda3\\envs\\TensorFlowGPU\\lib\\site-packages\\sklearn\\metrics\\_classification.py:1245: UndefinedMetricWarning: Precision and F-score are ill-defined and being set to 0.0 in labels with no predicted samples. Use `zero_division` parameter to control this behavior.\n",
      "  _warn_prf(average, modifier, msg_start, len(result))\n",
      "C:\\ProgramData\\Anaconda3\\envs\\TensorFlowGPU\\lib\\site-packages\\sklearn\\metrics\\_classification.py:1245: UndefinedMetricWarning: Precision and F-score are ill-defined and being set to 0.0 in labels with no predicted samples. Use `zero_division` parameter to control this behavior.\n",
      "  _warn_prf(average, modifier, msg_start, len(result))\n",
      "C:\\ProgramData\\Anaconda3\\envs\\TensorFlowGPU\\lib\\site-packages\\sklearn\\metrics\\_classification.py:1245: UndefinedMetricWarning: Precision and F-score are ill-defined and being set to 0.0 in labels with no predicted samples. Use `zero_division` parameter to control this behavior.\n",
      "  _warn_prf(average, modifier, msg_start, len(result))\n"
     ]
    },
    {
     "data": {
      "image/png": "[encoded data removed]",
      "text/plain": [
       "<Figure size 450x300 with 2 Axes>"
      ]
     },
     "metadata": {
      "needs_background": "light"
     },
     "output_type": "display_data"
    }
   ],
   "source": [
    "#Feature Scaling for I(N)tuition and Sensing\n",
    "cols = N_S_Xtrain.columns\n",
    "scaler = StandardScaler()\n",
    "X_train = scaler.fit_transform(N_S_Xtrain)\n",
    "X_test = scaler.transform(N_S_Xtest)\n",
    "#Return the scaled data to dataframe\n",
    "X_train = pd.DataFrame(X_train, columns=[cols])\n",
    "X_test = pd.DataFrame(X_test, columns=[cols])\n",
    "#View the df if needed:\n",
    "#X_train.describe()\n",
    "\n",
    "#Run SVM  'Radial Basis Function' default for I/E\n",
    "clf=SVC() #clf is classification we are assigning a classifer to it\n",
    "clf.fit(X_train, N_S_Ytrain)  #Fitting the model to the classifer, remember X_train has been scaled and  Y_train is the label\n",
    "labelPredict=clf.predict(X_test) \n",
    "print('SVM (rbf) for I(N)tuition/Sensing: {0:0.4f}'.format(accuracy_score(N_S_Ytest, labelPredict))) \n",
    "\n",
    "#Checking for Overfitting or Underfitting \n",
    "#We might have to change the 1/0 to letters to check from predict\n",
    "print(\"Checking for Under or Over fitting:\")\n",
    "print('-Training set score: {:.4f}'.format(clf.score(X_train, N_S_Ytrain)))\n",
    "print('-Test set score: {:.4f}'.format(clf.score(X_test, N_S_Ytest)))\n",
    "\n",
    "#Comparing our Model accuracy to null accuracy\n",
    "#print(N_S_Ytest.value_counts())  #Unhash if you want to see the distribution\n",
    "countN = N_S_Ytest.value_counts()[0]\n",
    "countS = N_S_Ytest.value_counts()[1]\n",
    "null = (countN/(countN+countS))\n",
    "print('Null accuracy score: {0:0.4f}'.format(null))\n",
    "\n",
    "#Confusion Matrix:\n",
    "NScm = confusion_matrix(N_S_Ytest, labelPredict)\n",
    "print(NScm)\n",
    "cmMatrix = pd.DataFrame(data=NScm, columns=['Actual Positive:1', 'Actual Negative:0'], \n",
    "                                 index=['Predict Positive:1', 'Predict Negative:0'])\n",
    "sns.heatmap(cmMatrix, annot=True, fmt='d', cmap='PuBuGn')\n",
    "#Precision and Recall\n",
    "print(classification_report(N_S_Ytest, labelPredict))"
   ]
  },
  {
   "cell_type": "code",
   "execution_count": 239,
   "id": "separate-mountain",
   "metadata": {},
   "outputs": [
    {
     "name": "stdout",
     "output_type": "stream",
     "text": [
      "SVM (rbf) for Perceiving/Judging: 0.6928\n",
      "Checking for Under or Over fitting:\n",
      "-Training set score: 0.9144\n",
      "-Test set score: 0.6928\n",
      "Null accuracy score: 0.6098\n",
      "[[312 365]\n",
      " [168 890]]\n",
      "              precision    recall  f1-score   support\n",
      "\n",
      "           J       0.65      0.46      0.54       677\n",
      "           P       0.71      0.84      0.77      1058\n",
      "\n",
      "    accuracy                           0.69      1735\n",
      "   macro avg       0.68      0.65      0.65      1735\n",
      "weighted avg       0.69      0.69      0.68      1735\n",
      "\n"
     ]
    },
    {
     "data": {
      "image/png": "[encoded data removed]",
      "text/plain": [
       "<Figure size 450x300 with 2 Axes>"
      ]
     },
     "metadata": {
      "needs_background": "light"
     },
     "output_type": "display_data"
    }
   ],
   "source": [
    "#Feature Scaling for Perceiving and Judging\n",
    "cols = P_J_Xtrain.columns\n",
    "scaler = StandardScaler()\n",
    "X_train = scaler.fit_transform(P_J_Xtrain)\n",
    "X_test = scaler.transform(P_J_Xtest)\n",
    "#Return the scaled data to dataframe\n",
    "X_train = pd.DataFrame(X_train, columns=[cols])\n",
    "X_test = pd.DataFrame(X_test, columns=[cols])\n",
    "#View the df if needed:\n",
    "#X_train.describe()\n",
    "\n",
    "#Run SVM  'Radial Basis Function' default for I/E\n",
    "clf=SVC() #clf is classification we are assigning a classifer to it\n",
    "clf.fit(X_train, P_J_Ytrain)  #Fitting the model to the classifer, remember X_train has been scaled and  Y_train is the label\n",
    "labelPredict=clf.predict(X_test) \n",
    "print('SVM (rbf) for Perceiving/Judging: {0:0.4f}'.format(accuracy_score(P_J_Ytest, labelPredict))) \n",
    "\n",
    "#Checking for Overfitting or Underfitting \n",
    "#We might have to change the 1/0 to letters to check from predict\n",
    "print(\"Checking for Under or Over fitting:\")\n",
    "print('-Training set score: {:.4f}'.format(clf.score(X_train, P_J_Ytrain)))\n",
    "print('-Test set score: {:.4f}'.format(clf.score(X_test, P_J_Ytest)))\n",
    "\n",
    "#Comparing our Model accuracy to null accuracy\n",
    "#print(P_J_Ytest.value_counts())  #Unhash if you want to see the distribution\n",
    "countP = P_J_Ytest.value_counts()[0]\n",
    "countJ = P_J_Ytest.value_counts()[1]\n",
    "null = (countP/(countP+countJ))\n",
    "print('Null accuracy score: {0:0.4f}'.format(null))\n",
    "\n",
    "#Confusion Matrix:\n",
    "PJcm = confusion_matrix(P_J_Ytest, labelPredict)\n",
    "print(PJcm)\n",
    "cmMatrix = pd.DataFrame(data=PJcm, columns=['Actual Positive:1', 'Actual Negative:0'], \n",
    "                                 index=['Predict Positive:1', 'Predict Negative:0'])\n",
    "sns.heatmap(cmMatrix, annot=True, fmt='d', cmap='PuBuGn')\n",
    "#Precision and Recall\n",
    "print(classification_report(P_J_Ytest, labelPredict))"
   ]
  },
  {
   "cell_type": "code",
   "execution_count": 240,
   "id": "temporal-commitment",
   "metadata": {},
   "outputs": [
    {
     "name": "stdout",
     "output_type": "stream",
     "text": [
      "SVM (rbf) for Introversion/Extraversion: 0.7804\n",
      "Checking for Under or Over fitting:\n",
      "-Training set score: 0.9323\n",
      "-Test set score: 0.7804\n",
      "Null accuracy score: 0.5383\n",
      "[[759 175]\n",
      " [206 595]]\n",
      "              precision    recall  f1-score   support\n",
      "\n",
      "           F       0.79      0.81      0.80       934\n",
      "           T       0.77      0.74      0.76       801\n",
      "\n",
      "    accuracy                           0.78      1735\n",
      "   macro avg       0.78      0.78      0.78      1735\n",
      "weighted avg       0.78      0.78      0.78      1735\n",
      "\n"
     ]
    },
    {
     "data": {
      "image/png": "[encoded data removed]",
      "text/plain": [
       "<Figure size 450x300 with 2 Axes>"
      ]
     },
     "metadata": {
      "needs_background": "light"
     },
     "output_type": "display_data"
    }
   ],
   "source": [
    "#Feature Scaling for Feeling and Thinking\n",
    "cols = F_T_Xtrain.columns\n",
    "scaler = StandardScaler()\n",
    "X_train = scaler.fit_transform(F_T_Xtrain)\n",
    "X_test = scaler.transform(F_T_Xtest)\n",
    "#Return the scaled data to dataframe\n",
    "X_train = pd.DataFrame(X_train, columns=[cols])\n",
    "X_test = pd.DataFrame(X_test, columns=[cols])\n",
    "#View the df if needed:\n",
    "#X_train.describe()\n",
    "\n",
    "#Run SVM  'Radial Basis Function' default for F/T\n",
    "clf=SVC() #clf is classification we are assigning a classifer to it\n",
    "clf.fit(X_train, F_T_Ytrain)  #Fitting the model to the classifer, remember X_train has been scaled and  Y_train is the label\n",
    "labelPredict=clf.predict(X_test) \n",
    "print('SVM (rbf) for Introversion/Extraversion: {0:0.4f}'.format(accuracy_score(F_T_Ytest, labelPredict))) \n",
    "\n",
    "#Checking for Overfitting or Underfitting \n",
    "#We might have to change the 1/0 to letters to check from predict\n",
    "print(\"Checking for Under or Over fitting:\")\n",
    "print('-Training set score: {:.4f}'.format(clf.score(X_train, F_T_Ytrain)))\n",
    "print('-Test set score: {:.4f}'.format(clf.score(X_test, F_T_Ytest)))\n",
    "\n",
    "#Comparing our Model accuracy to null accuracy\n",
    "#print(F_T_Ytest.value_counts())  #Unhash if you want to see the distribution\n",
    "countF = F_T_Ytest.value_counts()[0]\n",
    "countT = F_T_Ytest.value_counts()[1]\n",
    "null = (countF/(countF+countT))\n",
    "print('Null accuracy score: {0:0.4f}'.format(null))\n",
    "\n",
    "#Confusion Matrix:\n",
    "FTcm = confusion_matrix(F_T_Ytest, labelPredict)\n",
    "print(FTcm)\n",
    "cmMatrix = pd.DataFrame(data=FTcm, columns=['Actual Positive:1', 'Actual Negative:0'], \n",
    "                                 index=['Predict Positive:1', 'Predict Negative:0'])\n",
    "sns.heatmap(cmMatrix, annot=True, fmt='d', cmap='PuBuGn')\n",
    "#Precision and Recall\n",
    "print(classification_report(F_T_Ytest, labelPredict))"
   ]
  },
  {
   "cell_type": "markdown",
   "id": "undefined-objective",
   "metadata": {},
   "source": [
    "### SVG(Sigmoid)"
   ]
  },
  {
   "cell_type": "code",
   "execution_count": 247,
   "id": "digital-dealer",
   "metadata": {},
   "outputs": [
    {
     "name": "stdout",
     "output_type": "stream",
     "text": [
      "SVM (rbf) for 16 personality: 0.4703\n",
      "Checking for Under or Over fitting:\n",
      "-Training set score: 0.4818\n",
      "-Test set score: 0.4703\n",
      "              precision    recall  f1-score   support\n",
      "\n",
      "        ENFJ       0.00      0.00      0.00        34\n",
      "        ENFP       0.39      0.35      0.37       147\n",
      "        ENTJ       0.27      0.06      0.10        49\n",
      "        ENTP       0.38      0.40      0.39       154\n",
      "        ESFJ       0.00      0.00      0.00        11\n",
      "        ESFP       0.00      0.00      0.00        11\n",
      "        ESTJ       0.00      0.00      0.00         6\n",
      "        ESTP       0.00      0.00      0.00        16\n",
      "        INFJ       0.45      0.60      0.52       280\n",
      "        INFP       0.56      0.77      0.65       375\n",
      "        INTJ       0.46      0.46      0.46       222\n",
      "        INTP       0.44      0.54      0.49       248\n",
      "        ISFJ       0.00      0.00      0.00        28\n",
      "        ISFP       0.00      0.00      0.00        48\n",
      "        ISTJ       0.00      0.00      0.00        47\n",
      "        ISTP       0.26      0.08      0.13        59\n",
      "\n",
      "    accuracy                           0.47      1735\n",
      "   macro avg       0.20      0.20      0.19      1735\n",
      "weighted avg       0.40      0.47      0.43      1735\n",
      "\n"
     ]
    },
    {
     "name": "stderr",
     "output_type": "stream",
     "text": [
      "C:\\ProgramData\\Anaconda3\\envs\\TensorFlowGPU\\lib\\site-packages\\sklearn\\metrics\\_classification.py:1245: UndefinedMetricWarning: Precision and F-score are ill-defined and being set to 0.0 in labels with no predicted samples. Use `zero_division` parameter to control this behavior.\n",
      "  _warn_prf(average, modifier, msg_start, len(result))\n",
      "C:\\ProgramData\\Anaconda3\\envs\\TensorFlowGPU\\lib\\site-packages\\sklearn\\metrics\\_classification.py:1245: UndefinedMetricWarning: Precision and F-score are ill-defined and being set to 0.0 in labels with no predicted samples. Use `zero_division` parameter to control this behavior.\n",
      "  _warn_prf(average, modifier, msg_start, len(result))\n",
      "C:\\ProgramData\\Anaconda3\\envs\\TensorFlowGPU\\lib\\site-packages\\sklearn\\metrics\\_classification.py:1245: UndefinedMetricWarning: Precision and F-score are ill-defined and being set to 0.0 in labels with no predicted samples. Use `zero_division` parameter to control this behavior.\n",
      "  _warn_prf(average, modifier, msg_start, len(result))\n"
     ]
    }
   ],
   "source": [
    "#Feature Scaling for Introversion and Extraversion\n",
    "cols = myers_Xtrain.columns\n",
    "scaler = StandardScaler()\n",
    "X_train = scaler.fit_transform(myers_Xtrain)\n",
    "X_test = scaler.transform(myers_Xtest)\n",
    "#Return the scaled data to dataframe\n",
    "X_train = pd.DataFrame(X_train, columns=[cols])\n",
    "X_test = pd.DataFrame(X_test, columns=[cols])\n",
    "#View the df if needed:\n",
    "#X_train.describe()\n",
    "\n",
    "#Run SVM  'Radial Basis Function' default for I/E\n",
    "clf=SVC(kernel='sigmoid') #clf is classification we are assigning a classifer to it\n",
    "clf.fit(X_train, myers_Ytrain)  #Fitting the model to the classifer, remember X_train has been scaled and  Y_train is the label\n",
    "labelPredict=clf.predict(X_test) \n",
    "print('SVM (rbf) for 16 personality: {0:0.4f}'.format(accuracy_score(myers_Ytest, labelPredict))) \n",
    "\n",
    "#Checking for Overfitting or Underfitting \n",
    "#We might have to change the 1/0 to letters to check from predict\n",
    "print(\"Checking for Under or Over fitting:\")\n",
    "print('-Training set score: {:.4f}'.format(clf.score(X_train, myers_Ytrain)))\n",
    "print('-Test set score: {:.4f}'.format(clf.score(X_test, myers_Ytest)))\n",
    "#Precision and Recall\n",
    "print(classification_report(myers_Ytest, labelPredict))"
   ]
  },
  {
   "cell_type": "code",
   "execution_count": 241,
   "id": "about-universe",
   "metadata": {},
   "outputs": [
    {
     "name": "stdout",
     "output_type": "stream",
     "text": [
      "SVM (sigmoid) for Introversion/Extraversion: 0.7677\n",
      "Checking for Under or Over fitting:\n",
      "-Training set score: 0.7728\n",
      "-Test set score: 0.7677\n",
      "Null accuracy score: 0.7533\n",
      "[[  93  335]\n",
      " [  68 1239]]\n",
      "              precision    recall  f1-score   support\n",
      "\n",
      "           E       0.58      0.22      0.32       428\n",
      "           I       0.79      0.95      0.86      1307\n",
      "\n",
      "    accuracy                           0.77      1735\n",
      "   macro avg       0.68      0.58      0.59      1735\n",
      "weighted avg       0.74      0.77      0.73      1735\n",
      "\n"
     ]
    },
    {
     "data": {
      "image/png": "[encoded data removed]",
      "text/plain": [
       "<Figure size 450x300 with 2 Axes>"
      ]
     },
     "metadata": {
      "needs_background": "light"
     },
     "output_type": "display_data"
    }
   ],
   "source": [
    "#Feature Scaling for Introversion and Extraversion\n",
    "cols = I_E_Xtrain.columns\n",
    "scaler = StandardScaler()\n",
    "X_train = scaler.fit_transform(I_E_Xtrain)\n",
    "X_test = scaler.transform(I_E_Xtest)\n",
    "#Return the scaled data to dataframe\n",
    "X_train = pd.DataFrame(X_train, columns=[cols])\n",
    "X_test = pd.DataFrame(X_test, columns=[cols])\n",
    "#View the df if needed:\n",
    "#X_train.describe()\n",
    "\n",
    "#Run SVM  'Radial Basis Function' default for I/E\n",
    "clf=SVC(kernel='sigmoid') #clf is classification we are assigning a classifer to it\n",
    "clf.fit(X_train, I_E_Ytrain)  #Fitting the model to the classifer, remember X_train has been scaled and  Y_train is the label\n",
    "labelPredict=clf.predict(X_test) \n",
    "print('SVM (sigmoid) for Introversion/Extraversion: {0:0.4f}'.format(accuracy_score(I_E_Ytest, labelPredict))) \n",
    "\n",
    "#Checking for Overfitting or Underfitting \n",
    "#We might have to change the 1/0 to letters to check from predict\n",
    "print(\"Checking for Under or Over fitting:\")\n",
    "print('-Training set score: {:.4f}'.format(clf.score(X_train, I_E_Ytrain)))\n",
    "print('-Test set score: {:.4f}'.format(clf.score(X_test, I_E_Ytest)))\n",
    "\n",
    "#Comparing our Model accuracy to null accuracy\n",
    "#print(I_E_Ytest.value_counts())  #Unhash if you want to see the distribution\n",
    "countI = I_E_Ytest.value_counts()[0]\n",
    "countE = I_E_Ytest.value_counts()[1]\n",
    "null = (countI/(countI+countE))\n",
    "print('Null accuracy score: {0:0.4f}'.format(null))\n",
    "\n",
    "#Confusion Matrix:\n",
    "IEcm = confusion_matrix(I_E_Ytest, labelPredict)\n",
    "print(IEcm)\n",
    "cmMatrix = pd.DataFrame(data=IEcm, columns=['Actual Positive:1', 'Actual Negative:0'], \n",
    "                                 index=['Predict Positive:1', 'Predict Negative:0'])\n",
    "sns.heatmap(cmMatrix, annot=True, fmt='d', cmap='PuBuGn')\n",
    "#Precision and Recall\n",
    "print(classification_report(I_E_Ytest, labelPredict))"
   ]
  },
  {
   "cell_type": "code",
   "execution_count": 242,
   "id": "extreme-annual",
   "metadata": {},
   "outputs": [
    {
     "name": "stdout",
     "output_type": "stream",
     "text": [
      "SVM (sigmoid) for I(N)tuition/Sensing: 0.8692\n",
      "Checking for Under or Over fitting:\n",
      "-Training set score: 0.8588\n",
      "-Test set score: 0.8692\n",
      "Null accuracy score: 0.8697\n",
      "[[1508    1]\n",
      " [ 226    0]]\n",
      "              precision    recall  f1-score   support\n",
      "\n",
      "           N       0.87      1.00      0.93      1509\n",
      "           S       0.00      0.00      0.00       226\n",
      "\n",
      "    accuracy                           0.87      1735\n",
      "   macro avg       0.43      0.50      0.47      1735\n",
      "weighted avg       0.76      0.87      0.81      1735\n",
      "\n"
     ]
    },
    {
     "data": {
      "image/png": "[encoded data removed]",
      "text/plain": [
       "<Figure size 450x300 with 2 Axes>"
      ]
     },
     "metadata": {
      "needs_background": "light"
     },
     "output_type": "display_data"
    }
   ],
   "source": [
    "#Feature Scaling for I(N)tuition and Sensing\n",
    "cols = N_S_Xtrain.columns\n",
    "scaler = StandardScaler()\n",
    "X_train = scaler.fit_transform(N_S_Xtrain)\n",
    "X_test = scaler.transform(N_S_Xtest)\n",
    "#Return the scaled data to dataframe\n",
    "X_train = pd.DataFrame(X_train, columns=[cols])\n",
    "X_test = pd.DataFrame(X_test, columns=[cols])\n",
    "#View the df if needed:\n",
    "#X_train.describe()\n",
    "\n",
    "#Run SVM  'Radial Basis Function' default for I/E\n",
    "clf=SVC(kernel='sigmoid') #clf is classification we are assigning a classifer to it\n",
    "clf.fit(X_train, N_S_Ytrain)  #Fitting the model to the classifer, remember X_train has been scaled and  Y_train is the label\n",
    "labelPredict=clf.predict(X_test) \n",
    "print('SVM (sigmoid) for I(N)tuition/Sensing: {0:0.4f}'.format(accuracy_score(N_S_Ytest, labelPredict))) \n",
    "\n",
    "#Checking for Overfitting or Underfitting \n",
    "#We might have to change the 1/0 to letters to check from predict\n",
    "print(\"Checking for Under or Over fitting:\")\n",
    "print('-Training set score: {:.4f}'.format(clf.score(X_train, N_S_Ytrain)))\n",
    "print('-Test set score: {:.4f}'.format(clf.score(X_test, N_S_Ytest)))\n",
    "\n",
    "#Comparing our Model accuracy to null accuracy\n",
    "#print(N_S_Ytest.value_counts())  #Unhash if you want to see the distribution\n",
    "countN = N_S_Ytest.value_counts()[0]\n",
    "countS = N_S_Ytest.value_counts()[1]\n",
    "null = (countN/(countN+countS))\n",
    "print('Null accuracy score: {0:0.4f}'.format(null))\n",
    "\n",
    "#Confusion Matrix:\n",
    "NScm = confusion_matrix(N_S_Ytest, labelPredict)\n",
    "print(NScm)\n",
    "cmMatrix = pd.DataFrame(data=NScm, columns=['Actual Positive:1', 'Actual Negative:0'], \n",
    "                                 index=['Predict Positive:1', 'Predict Negative:0'])\n",
    "sns.heatmap(cmMatrix, annot=True, fmt='d', cmap='PuBuGn')\n",
    "#Precision and Recall\n",
    "print(classification_report(N_S_Ytest, labelPredict))"
   ]
  },
  {
   "cell_type": "code",
   "execution_count": 243,
   "id": "functional-hayes",
   "metadata": {},
   "outputs": [
    {
     "name": "stdout",
     "output_type": "stream",
     "text": [
      "SVM (sigmoid) for Perceiving/Judging: 0.6893\n",
      "Checking for Under or Over fitting:\n",
      "-Training set score: 0.6661\n",
      "-Test set score: 0.6893\n",
      "Null accuracy score: 0.6098\n",
      "[[355 322]\n",
      " [217 841]]\n",
      "              precision    recall  f1-score   support\n",
      "\n",
      "           J       0.62      0.52      0.57       677\n",
      "           P       0.72      0.79      0.76      1058\n",
      "\n",
      "    accuracy                           0.69      1735\n",
      "   macro avg       0.67      0.66      0.66      1735\n",
      "weighted avg       0.68      0.69      0.68      1735\n",
      "\n"
     ]
    },
    {
     "data": {
      "image/png": "[encoded data removed]",
      "text/plain": [
       "<Figure size 450x300 with 2 Axes>"
      ]
     },
     "metadata": {
      "needs_background": "light"
     },
     "output_type": "display_data"
    }
   ],
   "source": [
    "#Feature Scaling for Perceiving and Judging\n",
    "cols = P_J_Xtrain.columns\n",
    "scaler = StandardScaler()\n",
    "X_train = scaler.fit_transform(P_J_Xtrain)\n",
    "X_test = scaler.transform(P_J_Xtest)\n",
    "#Return the scaled data to dataframe\n",
    "X_train = pd.DataFrame(X_train, columns=[cols])\n",
    "X_test = pd.DataFrame(X_test, columns=[cols])\n",
    "#View the df if needed:\n",
    "#X_train.describe()\n",
    "\n",
    "#Run SVM  'Radial Basis Function' default for I/E\n",
    "clf=SVC(kernel = \"sigmoid\") #clf is classification we are assigning a classifer to it\n",
    "clf.fit(X_train, P_J_Ytrain)  #Fitting the model to the classifer, remember X_train has been scaled and  Y_train is the label\n",
    "labelPredict=clf.predict(X_test) \n",
    "print('SVM (sigmoid) for Perceiving/Judging: {0:0.4f}'.format(accuracy_score(P_J_Ytest, labelPredict))) \n",
    "\n",
    "#Checking for Overfitting or Underfitting \n",
    "#We might have to change the 1/0 to letters to check from predict\n",
    "print(\"Checking for Under or Over fitting:\")\n",
    "print('-Training set score: {:.4f}'.format(clf.score(X_train, P_J_Ytrain)))\n",
    "print('-Test set score: {:.4f}'.format(clf.score(X_test, P_J_Ytest)))\n",
    "\n",
    "#Comparing our Model accuracy to null accuracy\n",
    "#print(P_J_Ytest.value_counts())  #Unhash if you want to see the distribution\n",
    "countP = P_J_Ytest.value_counts()[0]\n",
    "countJ = P_J_Ytest.value_counts()[1]\n",
    "null = (countP/(countP+countJ))\n",
    "print('Null accuracy score: {0:0.4f}'.format(null))\n",
    "\n",
    "#Confusion Matrix:\n",
    "PJcm = confusion_matrix(P_J_Ytest, labelPredict)\n",
    "print(PJcm)\n",
    "cmMatrix = pd.DataFrame(data=PJcm, columns=['Actual Positive:1', 'Actual Negative:0'], \n",
    "                                 index=['Predict Positive:1', 'Predict Negative:0'])\n",
    "sns.heatmap(cmMatrix, annot=True, fmt='d', cmap='PuBuGn')\n",
    "#Precision and Recall\n",
    "print(classification_report(P_J_Ytest, labelPredict))"
   ]
  },
  {
   "cell_type": "code",
   "execution_count": 244,
   "id": "adverse-spain",
   "metadata": {},
   "outputs": [
    {
     "name": "stdout",
     "output_type": "stream",
     "text": [
      "SVM (sigmoid) for Introversion/Extraversion: 0.7620\n",
      "Checking for Under or Over fitting:\n",
      "-Training set score: 0.7406\n",
      "-Test set score: 0.7620\n",
      "Null accuracy score: 0.5383\n",
      "[[726 208]\n",
      " [205 596]]\n",
      "              precision    recall  f1-score   support\n",
      "\n",
      "           F       0.78      0.78      0.78       934\n",
      "           T       0.74      0.74      0.74       801\n",
      "\n",
      "    accuracy                           0.76      1735\n",
      "   macro avg       0.76      0.76      0.76      1735\n",
      "weighted avg       0.76      0.76      0.76      1735\n",
      "\n"
     ]
    },
    {
     "data": {
      "image/png": "[encoded data removed]",
      "text/plain": [
       "<Figure size 450x300 with 2 Axes>"
      ]
     },
     "metadata": {
      "needs_background": "light"
     },
     "output_type": "display_data"
    }
   ],
   "source": [
    "#Feature Scaling for Feeling and Thinking\n",
    "cols = F_T_Xtrain.columns\n",
    "scaler = StandardScaler()\n",
    "X_train = scaler.fit_transform(F_T_Xtrain)\n",
    "X_test = scaler.transform(F_T_Xtest)\n",
    "#Return the scaled data to dataframe\n",
    "X_train = pd.DataFrame(X_train, columns=[cols])\n",
    "X_test = pd.DataFrame(X_test, columns=[cols])\n",
    "#View the df if needed:\n",
    "#X_train.describe()\n",
    "\n",
    "#Run SVM  'Radial Basis Function' default for F/T\n",
    "clf=SVC(kernel = 'sigmoid') #clf is classification we are assigning a classifer to it\n",
    "clf.fit(X_train, F_T_Ytrain)  #Fitting the model to the classifer, remember X_train has been scaled and  Y_train is the label\n",
    "labelPredict=clf.predict(X_test) \n",
    "print('SVM (sigmoid) for Introversion/Extraversion: {0:0.4f}'.format(accuracy_score(F_T_Ytest, labelPredict))) \n",
    "\n",
    "#Checking for Overfitting or Underfitting \n",
    "#We might have to change the 1/0 to letters to check from predict\n",
    "print(\"Checking for Under or Over fitting:\")\n",
    "print('-Training set score: {:.4f}'.format(clf.score(X_train, F_T_Ytrain)))\n",
    "print('-Test set score: {:.4f}'.format(clf.score(X_test, F_T_Ytest)))\n",
    "\n",
    "#Comparing our Model accuracy to null accuracy\n",
    "#print(F_T_Ytest.value_counts())  #Unhash if you want to see the distribution\n",
    "countF = F_T_Ytest.value_counts()[0]\n",
    "countT = F_T_Ytest.value_counts()[1]\n",
    "null = (countF/(countF+countT))\n",
    "print('Null accuracy score: {0:0.4f}'.format(null))\n",
    "#Comparing this to the Test set score: 0.7654 the classifier SVC(rbf) is doing a decent job of predicting class labels\n",
    "\n",
    "#Confusion Matrix:\n",
    "FTcm = confusion_matrix(F_T_Ytest, labelPredict)\n",
    "print(FTcm)\n",
    "cmMatrix = pd.DataFrame(data=FTcm, columns=['Actual Positive:1', 'Actual Negative:0'], \n",
    "                                 index=['Predict Positive:1', 'Predict Negative:0'])\n",
    "sns.heatmap(cmMatrix, annot=True, fmt='d', cmap='PuBuGn')\n",
    "#Precision and Recall\n",
    "print(classification_report(F_T_Ytest, labelPredict))"
   ]
  },
  {
   "cell_type": "markdown",
   "id": "cognitive-failing",
   "metadata": {},
   "source": [
    "### GridSearch"
   ]
  },
  {
   "cell_type": "code",
   "execution_count": 40,
   "id": "authorized-ability",
   "metadata": {},
   "outputs": [
    {
     "ename": "KeyboardInterrupt",
     "evalue": "",
     "output_type": "error",
     "traceback": [
      "\u001b[1;31m---------------------------------------------------------------------------\u001b[0m",
      "\u001b[1;31mKeyboardInterrupt\u001b[0m                         Traceback (most recent call last)",
      "\u001b[1;32m<ipython-input-40-d76a193fb239>\u001b[0m in \u001b[0;36m<module>\u001b[1;34m\u001b[0m\n\u001b[0;32m     17\u001b[0m                            \u001b[0mverbose\u001b[0m\u001b[1;33m=\u001b[0m\u001b[1;36m0\u001b[0m\u001b[1;33m,\u001b[0m\u001b[1;33m\u001b[0m\u001b[1;33m\u001b[0m\u001b[0m\n\u001b[0;32m     18\u001b[0m                            n_jobs = -1)\n\u001b[1;32m---> 19\u001b[1;33m \u001b[0mgrid_search\u001b[0m\u001b[1;33m.\u001b[0m\u001b[0mfit\u001b[0m\u001b[1;33m(\u001b[0m\u001b[0mfeaturesTrain\u001b[0m\u001b[1;33m,\u001b[0m \u001b[0mtypes_train\u001b[0m\u001b[1;33m)\u001b[0m\u001b[1;33m\u001b[0m\u001b[1;33m\u001b[0m\u001b[0m\n\u001b[0m",
      "\u001b[1;32mC:\\ProgramData\\Anaconda3\\envs\\TensorFlowGPU\\lib\\site-packages\\sklearn\\utils\\validation.py\u001b[0m in \u001b[0;36minner_f\u001b[1;34m(*args, **kwargs)\u001b[0m\n\u001b[0;32m     61\u001b[0m             \u001b[0mextra_args\u001b[0m \u001b[1;33m=\u001b[0m \u001b[0mlen\u001b[0m\u001b[1;33m(\u001b[0m\u001b[0margs\u001b[0m\u001b[1;33m)\u001b[0m \u001b[1;33m-\u001b[0m \u001b[0mlen\u001b[0m\u001b[1;33m(\u001b[0m\u001b[0mall_args\u001b[0m\u001b[1;33m)\u001b[0m\u001b[1;33m\u001b[0m\u001b[1;33m\u001b[0m\u001b[0m\n\u001b[0;32m     62\u001b[0m             \u001b[1;32mif\u001b[0m \u001b[0mextra_args\u001b[0m \u001b[1;33m<=\u001b[0m \u001b[1;36m0\u001b[0m\u001b[1;33m:\u001b[0m\u001b[1;33m\u001b[0m\u001b[1;33m\u001b[0m\u001b[0m\n\u001b[1;32m---> 63\u001b[1;33m                 \u001b[1;32mreturn\u001b[0m \u001b[0mf\u001b[0m\u001b[1;33m(\u001b[0m\u001b[1;33m*\u001b[0m\u001b[0margs\u001b[0m\u001b[1;33m,\u001b[0m \u001b[1;33m**\u001b[0m\u001b[0mkwargs\u001b[0m\u001b[1;33m)\u001b[0m\u001b[1;33m\u001b[0m\u001b[1;33m\u001b[0m\u001b[0m\n\u001b[0m\u001b[0;32m     64\u001b[0m \u001b[1;33m\u001b[0m\u001b[0m\n\u001b[0;32m     65\u001b[0m             \u001b[1;31m# extra_args > 0\u001b[0m\u001b[1;33m\u001b[0m\u001b[1;33m\u001b[0m\u001b[1;33m\u001b[0m\u001b[0m\n",
      "\u001b[1;32mC:\\ProgramData\\Anaconda3\\envs\\TensorFlowGPU\\lib\\site-packages\\sklearn\\model_selection\\_search.py\u001b[0m in \u001b[0;36mfit\u001b[1;34m(self, X, y, groups, **fit_params)\u001b[0m\n\u001b[0;32m    839\u001b[0m                 \u001b[1;32mreturn\u001b[0m \u001b[0mresults\u001b[0m\u001b[1;33m\u001b[0m\u001b[1;33m\u001b[0m\u001b[0m\n\u001b[0;32m    840\u001b[0m \u001b[1;33m\u001b[0m\u001b[0m\n\u001b[1;32m--> 841\u001b[1;33m             \u001b[0mself\u001b[0m\u001b[1;33m.\u001b[0m\u001b[0m_run_search\u001b[0m\u001b[1;33m(\u001b[0m\u001b[0mevaluate_candidates\u001b[0m\u001b[1;33m)\u001b[0m\u001b[1;33m\u001b[0m\u001b[1;33m\u001b[0m\u001b[0m\n\u001b[0m\u001b[0;32m    842\u001b[0m \u001b[1;33m\u001b[0m\u001b[0m\n\u001b[0;32m    843\u001b[0m             \u001b[1;31m# multimetric is determined here because in the case of a callable\u001b[0m\u001b[1;33m\u001b[0m\u001b[1;33m\u001b[0m\u001b[1;33m\u001b[0m\u001b[0m\n",
      "\u001b[1;32mC:\\ProgramData\\Anaconda3\\envs\\TensorFlowGPU\\lib\\site-packages\\sklearn\\model_selection\\_search.py\u001b[0m in \u001b[0;36m_run_search\u001b[1;34m(self, evaluate_candidates)\u001b[0m\n\u001b[0;32m   1286\u001b[0m     \u001b[1;32mdef\u001b[0m \u001b[0m_run_search\u001b[0m\u001b[1;33m(\u001b[0m\u001b[0mself\u001b[0m\u001b[1;33m,\u001b[0m \u001b[0mevaluate_candidates\u001b[0m\u001b[1;33m)\u001b[0m\u001b[1;33m:\u001b[0m\u001b[1;33m\u001b[0m\u001b[1;33m\u001b[0m\u001b[0m\n\u001b[0;32m   1287\u001b[0m         \u001b[1;34m\"\"\"Search all candidates in param_grid\"\"\"\u001b[0m\u001b[1;33m\u001b[0m\u001b[1;33m\u001b[0m\u001b[0m\n\u001b[1;32m-> 1288\u001b[1;33m         \u001b[0mevaluate_candidates\u001b[0m\u001b[1;33m(\u001b[0m\u001b[0mParameterGrid\u001b[0m\u001b[1;33m(\u001b[0m\u001b[0mself\u001b[0m\u001b[1;33m.\u001b[0m\u001b[0mparam_grid\u001b[0m\u001b[1;33m)\u001b[0m\u001b[1;33m)\u001b[0m\u001b[1;33m\u001b[0m\u001b[1;33m\u001b[0m\u001b[0m\n\u001b[0m\u001b[0;32m   1289\u001b[0m \u001b[1;33m\u001b[0m\u001b[0m\n\u001b[0;32m   1290\u001b[0m \u001b[1;33m\u001b[0m\u001b[0m\n",
      "\u001b[1;32mC:\\ProgramData\\Anaconda3\\envs\\TensorFlowGPU\\lib\\site-packages\\sklearn\\model_selection\\_search.py\u001b[0m in \u001b[0;36mevaluate_candidates\u001b[1;34m(candidate_params, cv, more_results)\u001b[0m\n\u001b[0;32m    807\u001b[0m                                    (split_idx, (train, test)) in product(\n\u001b[0;32m    808\u001b[0m                                    \u001b[0menumerate\u001b[0m\u001b[1;33m(\u001b[0m\u001b[0mcandidate_params\u001b[0m\u001b[1;33m)\u001b[0m\u001b[1;33m,\u001b[0m\u001b[1;33m\u001b[0m\u001b[1;33m\u001b[0m\u001b[0m\n\u001b[1;32m--> 809\u001b[1;33m                                    enumerate(cv.split(X, y, groups))))\n\u001b[0m\u001b[0;32m    810\u001b[0m \u001b[1;33m\u001b[0m\u001b[0m\n\u001b[0;32m    811\u001b[0m                 \u001b[1;32mif\u001b[0m \u001b[0mlen\u001b[0m\u001b[1;33m(\u001b[0m\u001b[0mout\u001b[0m\u001b[1;33m)\u001b[0m \u001b[1;33m<\u001b[0m \u001b[1;36m1\u001b[0m\u001b[1;33m:\u001b[0m\u001b[1;33m\u001b[0m\u001b[1;33m\u001b[0m\u001b[0m\n",
      "\u001b[1;32mC:\\ProgramData\\Anaconda3\\envs\\TensorFlowGPU\\lib\\site-packages\\joblib\\parallel.py\u001b[0m in \u001b[0;36m__call__\u001b[1;34m(self, iterable)\u001b[0m\n\u001b[0;32m   1052\u001b[0m \u001b[1;33m\u001b[0m\u001b[0m\n\u001b[0;32m   1053\u001b[0m             \u001b[1;32mwith\u001b[0m \u001b[0mself\u001b[0m\u001b[1;33m.\u001b[0m\u001b[0m_backend\u001b[0m\u001b[1;33m.\u001b[0m\u001b[0mretrieval_context\u001b[0m\u001b[1;33m(\u001b[0m\u001b[1;33m)\u001b[0m\u001b[1;33m:\u001b[0m\u001b[1;33m\u001b[0m\u001b[1;33m\u001b[0m\u001b[0m\n\u001b[1;32m-> 1054\u001b[1;33m                 \u001b[0mself\u001b[0m\u001b[1;33m.\u001b[0m\u001b[0mretrieve\u001b[0m\u001b[1;33m(\u001b[0m\u001b[1;33m)\u001b[0m\u001b[1;33m\u001b[0m\u001b[1;33m\u001b[0m\u001b[0m\n\u001b[0m\u001b[0;32m   1055\u001b[0m             \u001b[1;31m# Make sure that we get a last message telling us we are done\u001b[0m\u001b[1;33m\u001b[0m\u001b[1;33m\u001b[0m\u001b[1;33m\u001b[0m\u001b[0m\n\u001b[0;32m   1056\u001b[0m             \u001b[0melapsed_time\u001b[0m \u001b[1;33m=\u001b[0m \u001b[0mtime\u001b[0m\u001b[1;33m.\u001b[0m\u001b[0mtime\u001b[0m\u001b[1;33m(\u001b[0m\u001b[1;33m)\u001b[0m \u001b[1;33m-\u001b[0m \u001b[0mself\u001b[0m\u001b[1;33m.\u001b[0m\u001b[0m_start_time\u001b[0m\u001b[1;33m\u001b[0m\u001b[1;33m\u001b[0m\u001b[0m\n",
      "\u001b[1;32mC:\\ProgramData\\Anaconda3\\envs\\TensorFlowGPU\\lib\\site-packages\\joblib\\parallel.py\u001b[0m in \u001b[0;36mretrieve\u001b[1;34m(self)\u001b[0m\n\u001b[0;32m    931\u001b[0m             \u001b[1;32mtry\u001b[0m\u001b[1;33m:\u001b[0m\u001b[1;33m\u001b[0m\u001b[1;33m\u001b[0m\u001b[0m\n\u001b[0;32m    932\u001b[0m                 \u001b[1;32mif\u001b[0m \u001b[0mgetattr\u001b[0m\u001b[1;33m(\u001b[0m\u001b[0mself\u001b[0m\u001b[1;33m.\u001b[0m\u001b[0m_backend\u001b[0m\u001b[1;33m,\u001b[0m \u001b[1;34m'supports_timeout'\u001b[0m\u001b[1;33m,\u001b[0m \u001b[1;32mFalse\u001b[0m\u001b[1;33m)\u001b[0m\u001b[1;33m:\u001b[0m\u001b[1;33m\u001b[0m\u001b[1;33m\u001b[0m\u001b[0m\n\u001b[1;32m--> 933\u001b[1;33m                     \u001b[0mself\u001b[0m\u001b[1;33m.\u001b[0m\u001b[0m_output\u001b[0m\u001b[1;33m.\u001b[0m\u001b[0mextend\u001b[0m\u001b[1;33m(\u001b[0m\u001b[0mjob\u001b[0m\u001b[1;33m.\u001b[0m\u001b[0mget\u001b[0m\u001b[1;33m(\u001b[0m\u001b[0mtimeout\u001b[0m\u001b[1;33m=\u001b[0m\u001b[0mself\u001b[0m\u001b[1;33m.\u001b[0m\u001b[0mtimeout\u001b[0m\u001b[1;33m)\u001b[0m\u001b[1;33m)\u001b[0m\u001b[1;33m\u001b[0m\u001b[1;33m\u001b[0m\u001b[0m\n\u001b[0m\u001b[0;32m    934\u001b[0m                 \u001b[1;32melse\u001b[0m\u001b[1;33m:\u001b[0m\u001b[1;33m\u001b[0m\u001b[1;33m\u001b[0m\u001b[0m\n\u001b[0;32m    935\u001b[0m                     \u001b[0mself\u001b[0m\u001b[1;33m.\u001b[0m\u001b[0m_output\u001b[0m\u001b[1;33m.\u001b[0m\u001b[0mextend\u001b[0m\u001b[1;33m(\u001b[0m\u001b[0mjob\u001b[0m\u001b[1;33m.\u001b[0m\u001b[0mget\u001b[0m\u001b[1;33m(\u001b[0m\u001b[1;33m)\u001b[0m\u001b[1;33m)\u001b[0m\u001b[1;33m\u001b[0m\u001b[1;33m\u001b[0m\u001b[0m\n",
      "\u001b[1;32mC:\\ProgramData\\Anaconda3\\envs\\TensorFlowGPU\\lib\\site-packages\\joblib\\_parallel_backends.py\u001b[0m in \u001b[0;36mwrap_future_result\u001b[1;34m(future, timeout)\u001b[0m\n\u001b[0;32m    540\u001b[0m         AsyncResults.get from multiprocessing.\"\"\"\n\u001b[0;32m    541\u001b[0m         \u001b[1;32mtry\u001b[0m\u001b[1;33m:\u001b[0m\u001b[1;33m\u001b[0m\u001b[1;33m\u001b[0m\u001b[0m\n\u001b[1;32m--> 542\u001b[1;33m             \u001b[1;32mreturn\u001b[0m \u001b[0mfuture\u001b[0m\u001b[1;33m.\u001b[0m\u001b[0mresult\u001b[0m\u001b[1;33m(\u001b[0m\u001b[0mtimeout\u001b[0m\u001b[1;33m=\u001b[0m\u001b[0mtimeout\u001b[0m\u001b[1;33m)\u001b[0m\u001b[1;33m\u001b[0m\u001b[1;33m\u001b[0m\u001b[0m\n\u001b[0m\u001b[0;32m    543\u001b[0m         \u001b[1;32mexcept\u001b[0m \u001b[0mCfTimeoutError\u001b[0m \u001b[1;32mas\u001b[0m \u001b[0me\u001b[0m\u001b[1;33m:\u001b[0m\u001b[1;33m\u001b[0m\u001b[1;33m\u001b[0m\u001b[0m\n\u001b[0;32m    544\u001b[0m             \u001b[1;32mraise\u001b[0m \u001b[0mTimeoutError\u001b[0m \u001b[1;32mfrom\u001b[0m \u001b[0me\u001b[0m\u001b[1;33m\u001b[0m\u001b[1;33m\u001b[0m\u001b[0m\n",
      "\u001b[1;32mC:\\ProgramData\\Anaconda3\\envs\\TensorFlowGPU\\lib\\concurrent\\futures\\_base.py\u001b[0m in \u001b[0;36mresult\u001b[1;34m(self, timeout)\u001b[0m\n\u001b[0;32m    425\u001b[0m                 \u001b[1;32mreturn\u001b[0m \u001b[0mself\u001b[0m\u001b[1;33m.\u001b[0m\u001b[0m__get_result\u001b[0m\u001b[1;33m(\u001b[0m\u001b[1;33m)\u001b[0m\u001b[1;33m\u001b[0m\u001b[1;33m\u001b[0m\u001b[0m\n\u001b[0;32m    426\u001b[0m \u001b[1;33m\u001b[0m\u001b[0m\n\u001b[1;32m--> 427\u001b[1;33m             \u001b[0mself\u001b[0m\u001b[1;33m.\u001b[0m\u001b[0m_condition\u001b[0m\u001b[1;33m.\u001b[0m\u001b[0mwait\u001b[0m\u001b[1;33m(\u001b[0m\u001b[0mtimeout\u001b[0m\u001b[1;33m)\u001b[0m\u001b[1;33m\u001b[0m\u001b[1;33m\u001b[0m\u001b[0m\n\u001b[0m\u001b[0;32m    428\u001b[0m \u001b[1;33m\u001b[0m\u001b[0m\n\u001b[0;32m    429\u001b[0m             \u001b[1;32mif\u001b[0m \u001b[0mself\u001b[0m\u001b[1;33m.\u001b[0m\u001b[0m_state\u001b[0m \u001b[1;32min\u001b[0m \u001b[1;33m[\u001b[0m\u001b[0mCANCELLED\u001b[0m\u001b[1;33m,\u001b[0m \u001b[0mCANCELLED_AND_NOTIFIED\u001b[0m\u001b[1;33m]\u001b[0m\u001b[1;33m:\u001b[0m\u001b[1;33m\u001b[0m\u001b[1;33m\u001b[0m\u001b[0m\n",
      "\u001b[1;32mC:\\ProgramData\\Anaconda3\\envs\\TensorFlowGPU\\lib\\threading.py\u001b[0m in \u001b[0;36mwait\u001b[1;34m(self, timeout)\u001b[0m\n\u001b[0;32m    293\u001b[0m         \u001b[1;32mtry\u001b[0m\u001b[1;33m:\u001b[0m    \u001b[1;31m# restore state no matter what (e.g., KeyboardInterrupt)\u001b[0m\u001b[1;33m\u001b[0m\u001b[1;33m\u001b[0m\u001b[0m\n\u001b[0;32m    294\u001b[0m             \u001b[1;32mif\u001b[0m \u001b[0mtimeout\u001b[0m \u001b[1;32mis\u001b[0m \u001b[1;32mNone\u001b[0m\u001b[1;33m:\u001b[0m\u001b[1;33m\u001b[0m\u001b[1;33m\u001b[0m\u001b[0m\n\u001b[1;32m--> 295\u001b[1;33m                 \u001b[0mwaiter\u001b[0m\u001b[1;33m.\u001b[0m\u001b[0macquire\u001b[0m\u001b[1;33m(\u001b[0m\u001b[1;33m)\u001b[0m\u001b[1;33m\u001b[0m\u001b[1;33m\u001b[0m\u001b[0m\n\u001b[0m\u001b[0;32m    296\u001b[0m                 \u001b[0mgotit\u001b[0m \u001b[1;33m=\u001b[0m \u001b[1;32mTrue\u001b[0m\u001b[1;33m\u001b[0m\u001b[1;33m\u001b[0m\u001b[0m\n\u001b[0;32m    297\u001b[0m             \u001b[1;32melse\u001b[0m\u001b[1;33m:\u001b[0m\u001b[1;33m\u001b[0m\u001b[1;33m\u001b[0m\u001b[0m\n",
      "\u001b[1;31mKeyboardInterrupt\u001b[0m: "
     ]
    }
   ],
   "source": [
    "from sklearn.model_selection import GridSearchCV\n",
    "\n",
    "clf=SVC() \n",
    "parameters = [ {'C':[1, 10, 100], 'kernel':['linear']},\n",
    "               {'C':[1, 10, 100], 'kernel':['rbf'], 'gamma':[.1,.5,1]},\n",
    "               {'C':[1, 10, 100], 'kernel':['sigmoid'], 'gamma':[.1,.5,1]} \n",
    "              ]\n",
    "grid_search = GridSearchCV(estimator = clf,  \n",
    "                           param_grid = parameters,\n",
    "                           scoring = 'accuracy',\n",
    "                           cv = 5,\n",
    "                           verbose=0,\n",
    "                           n_jobs = -1)\n",
    "grid_search.fit(featuresTrain, types_train)"
   ]
  },
  {
   "cell_type": "code",
   "execution_count": null,
   "id": "working-strain",
   "metadata": {},
   "outputs": [],
   "source": []
  }
 ],
 "metadata": {
  "colab": {
   "collapsed_sections": [],
   "name": "ModelAccuracy.ipynb",
   "provenance": [],
   "toc_visible": true
  },
  "kernelspec": {
   "display_name": "Python 3 (ipykernel)",
   "language": "python",
   "name": "python3"
  },
  "language_info": {
   "codemirror_mode": {
    "name": "ipython",
    "version": 3
   },
   "file_extension": ".py",
   "mimetype": "text/x-python",
   "name": "python",
   "nbconvert_exporter": "python",
   "pygments_lexer": "ipython3",
   "version": "3.10.9"
  }
 },
 "nbformat": 4,
 "nbformat_minor": 5
}
