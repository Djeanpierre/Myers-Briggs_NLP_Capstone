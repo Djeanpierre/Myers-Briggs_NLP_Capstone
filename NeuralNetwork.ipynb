{
 "cells": [
  {
   "cell_type": "code",
   "execution_count": 77,
   "metadata": {
    "id": "fD2wSfz5jJP3"
   },
   "outputs": [],
   "source": [
    "import os  \n",
    "import pickle\n",
    "import pandas as pd\n",
    "os.chdir(r'C:\\Users\\limso\\Downloads')\n",
    "df =pd.read_pickle('ModelOneHots')"
   ]
  },
  {
   "cell_type": "code",
   "execution_count": 78,
   "metadata": {
    "colab": {
     "base_uri": "https://localhost:8080/",
     "height": 476
    },
    "executionInfo": {
     "elapsed": 567,
     "status": "ok",
     "timestamp": 1619652056417,
     "user": {
      "displayName": "Soon Chye Lim",
      "photoUrl": "",
      "userId": "02286047641686637328"
     },
     "user_tz": 420
    },
    "id": "jAK7WcOYjJP3",
    "outputId": "0196ee1d-c7d2-4f9f-acc6-5bf7aadbe609"
   },
   "outputs": [],
   "source": [
    "lab_all = df['myerTypes']\n",
    "df_all = df.drop(['I(1)/E','N(1)/S','P(1)/J','F(1)/T','myerTypes'], axis = 1)\n",
    "lab_IE = df['I(1)/E']\n",
    "df_IE = df.drop(['I(1)/E','N(1)/S','P(1)/J','F(1)/T','myerTypes'], axis = 1)\n",
    "lab_NS = df['N(1)/S']\n",
    "df_NS = df.drop(['I(1)/E','N(1)/S','P(1)/J','F(1)/T','myerTypes'], axis = 1)\n",
    "lab_PJ = df['P(1)/J']\n",
    "df_PJ = df.drop(['I(1)/E','N(1)/S','P(1)/J','F(1)/T','myerTypes'], axis = 1)\n",
    "lab_FT = df['F(1)/T']\n",
    "df_FT = df.drop(['I(1)/E','N(1)/S','P(1)/J','F(1)/T','myerTypes'], axis = 1)\n"
   ]
  },
  {
   "cell_type": "code",
   "execution_count": 70,
   "metadata": {
    "colab": {
     "base_uri": "https://localhost:8080/",
     "height": 1000
    },
    "executionInfo": {
     "elapsed": 316095,
     "status": "error",
     "timestamp": 1619652404958,
     "user": {
      "displayName": "Soon Chye Lim",
      "photoUrl": "",
      "userId": "02286047641686637328"
     },
     "user_tz": 420
    },
    "id": "-cGCjmbmjJP5",
    "outputId": "6c629a86-e470-4704-ea90-92c3d1b75857",
    "scrolled": true
   },
   "outputs": [
    {
     "name": "stdout",
     "output_type": "stream",
     "text": [
      "Model: \"sequential_15\"\n",
      "_________________________________________________________________\n",
      "Layer (type)                 Output Shape              Param #   \n",
      "=================================================================\n",
      "embedding_15 (Embedding)     (None, 314, 314)          98596     \n",
      "_________________________________________________________________\n",
      "conv1d_15 (Conv1D)           (None, 312, 64)           60352     \n",
      "_________________________________________________________________\n",
      "flatten_15 (Flatten)         (None, 19968)             0         \n",
      "_________________________________________________________________\n",
      "dense_30 (Dense)             (None, 32)                639008    \n",
      "_________________________________________________________________\n",
      "batch_normalization_15 (Batc (None, 32)                128       \n",
      "_________________________________________________________________\n",
      "leaky_re_lu_15 (LeakyReLU)   (None, 32)                0         \n",
      "_________________________________________________________________\n",
      "dense_31 (Dense)             (None, 16)                528       \n",
      "_________________________________________________________________\n",
      "dropout_15 (Dropout)         (None, 16)                0         \n",
      "=================================================================\n",
      "Total params: 798,612\n",
      "Trainable params: 798,548\n",
      "Non-trainable params: 64\n",
      "_________________________________________________________________\n",
      "None\n",
      "Model: \"sequential_16\"\n",
      "_________________________________________________________________\n",
      "Layer (type)                 Output Shape              Param #   \n",
      "=================================================================\n",
      "embedding_16 (Embedding)     (None, 314, 314)          98596     \n",
      "_________________________________________________________________\n",
      "conv1d_16 (Conv1D)           (None, 312, 64)           60352     \n",
      "_________________________________________________________________\n",
      "flatten_16 (Flatten)         (None, 19968)             0         \n",
      "_________________________________________________________________\n",
      "dense_32 (Dense)             (None, 32)                639008    \n",
      "_________________________________________________________________\n",
      "batch_normalization_16 (Batc (None, 32)                128       \n",
      "_________________________________________________________________\n",
      "leaky_re_lu_16 (LeakyReLU)   (None, 32)                0         \n",
      "_________________________________________________________________\n",
      "dense_33 (Dense)             (None, 2)                 66        \n",
      "_________________________________________________________________\n",
      "dropout_16 (Dropout)         (None, 2)                 0         \n",
      "=================================================================\n",
      "Total params: 798,150\n",
      "Trainable params: 798,086\n",
      "Non-trainable params: 64\n",
      "_________________________________________________________________\n",
      "None\n"
     ]
    }
   ],
   "source": [
    "#Model Building\n",
    "\n",
    "import tensorflow as tf\n",
    "from tensorflow import keras\n",
    "from tensorflow.keras import layers\n",
    "from matplotlib import pyplot as plt\n",
    "from sklearn import preprocessing\n",
    "from keras import optimizers\n",
    "from keras.layers import Dropout\n",
    "from keras.layers import Conv1D\n",
    "\n",
    "min_max_scaler = preprocessing.MinMaxScaler()\n",
    "def scaler(dataframe):\n",
    "    df_scaled = min_max_scaler.fit_transform(dataframe)\n",
    "    df_normalized = pd.DataFrame(df_scaled)\n",
    "    return df_normalized\n",
    "\n",
    "model = tf.keras.models.Sequential()\n",
    "model.add(tf.keras.Input(shape=314))\n",
    "model.add(tf.keras.layers.Embedding(314,314))\n",
    "model.add(tf.keras.layers.Conv1D((64),3))\n",
    "model.add(tf.keras.layers.Flatten())\n",
    "model.add(tf.keras.layers.Dense(32))\n",
    "model.add(tf.keras.layers.BatchNormalization())\n",
    "model.add(tf.keras.layers.LeakyReLU())\n",
    "model.add(tf.keras.layers.Dense(16, activation='softmax'))\n",
    "model.add(tf.keras.layers.Dropout(0.02))\n",
    "sgd=keras.optimizers.SGD(momentum=0.9,decay=1e-6,lr=0.001, nesterov=True)\n",
    "model.compile(loss='categorical_crossentropy', metrics=['accuracy'], optimizer=sgd)\n",
    "print(model.summary())\n",
    "\n",
    "#Model for single letter\n",
    "model2 = tf.keras.models.Sequential()\n",
    "model2.add(tf.keras.Input(shape=314))\n",
    "model2.add(tf.keras.layers.Embedding(314,314))\n",
    "model2.add(tf.keras.layers.Conv1D((64),3))\n",
    "model2.add(tf.keras.layers.Flatten())\n",
    "model2.add(tf.keras.layers.Dense(32))\n",
    "model2.add(tf.keras.layers.BatchNormalization())\n",
    "model2.add(tf.keras.layers.LeakyReLU())\n",
    "model2.add(tf.keras.layers.Dense(2, activation='softmax')) #Only change this\n",
    "model2.add(tf.keras.layers.Dropout(0.02))\n",
    "sgd=keras.optimizers.SGD(momentum=0.9,decay=1e-6,lr=0.001, nesterov=True)\n",
    "model2.compile(loss='binary_crossentropy', metrics=['accuracy'], optimizer=sgd)\n",
    "print(model2.summary())\n"
   ]
  },
  {
   "cell_type": "code",
   "execution_count": 74,
   "metadata": {},
   "outputs": [
    {
     "name": "stdout",
     "output_type": "stream",
     "text": [
      "Train on 6940 samples, validate on 1735 samples\n",
      "Epoch 1/12\n",
      "6940/6940 [==============================] - 21s 3ms/sample - loss: 2.7339 - accuracy: 0.2659 - val_loss: 2.5849 - val_accuracy: 0.4179\n",
      "Epoch 2/12\n",
      "6940/6940 [==============================] - 19s 3ms/sample - loss: 2.1493 - accuracy: 0.4831 - val_loss: 2.2899 - val_accuracy: 0.4386\n",
      "Epoch 3/12\n",
      "6940/6940 [==============================] - 19s 3ms/sample - loss: 1.9362 - accuracy: 0.5081 - val_loss: 2.0038 - val_accuracy: 0.4484\n",
      "Epoch 4/12\n",
      "6940/6940 [==============================] - 19s 3ms/sample - loss: 1.8553 - accuracy: 0.5210 - val_loss: 1.8374 - val_accuracy: 0.4467\n",
      "Epoch 5/12\n",
      "6940/6940 [==============================] - 18s 3ms/sample - loss: 1.7875 - accuracy: 0.5246 - val_loss: 1.8047 - val_accuracy: 0.4524\n",
      "Epoch 6/12\n",
      "6940/6940 [==============================] - 19s 3ms/sample - loss: 1.7503 - accuracy: 0.5353 - val_loss: 1.8068 - val_accuracy: 0.4548\n",
      "Epoch 7/12\n",
      "6940/6940 [==============================] - 19s 3ms/sample - loss: 1.7416 - accuracy: 0.5392 - val_loss: 1.8047 - val_accuracy: 0.4548\n",
      "Epoch 8/12\n",
      "6940/6940 [==============================] - 19s 3ms/sample - loss: 1.7045 - accuracy: 0.5431 - val_loss: 1.7940 - val_accuracy: 0.4513\n",
      "Epoch 9/12\n",
      "6940/6940 [==============================] - 19s 3ms/sample - loss: 1.7222 - accuracy: 0.5494 - val_loss: 1.7966 - val_accuracy: 0.4478\n",
      "Epoch 10/12\n",
      "6940/6940 [==============================] - 19s 3ms/sample - loss: 1.6453 - accuracy: 0.5548 - val_loss: 1.7955 - val_accuracy: 0.4507\n",
      "Epoch 11/12\n",
      "6940/6940 [==============================] - 19s 3ms/sample - loss: 1.6138 - accuracy: 0.5604 - val_loss: 1.7883 - val_accuracy: 0.4501\n",
      "Epoch 12/12\n",
      "6940/6940 [==============================] - 19s 3ms/sample - loss: 1.6581 - accuracy: 0.5625 - val_loss: 1.7974 - val_accuracy: 0.4496\n"
     ]
    }
   ],
   "source": [
    "#Run 4 letters model\n",
    "\n",
    "types = ['ISTJ','ISTP','ISFJ','ISFP','INFJ','INFP','INTJ','INTP','ESTP','ESTJ','ESFP','ESFJ','ENFP','ENFJ','ENTP','ENTJ']\n",
    "typedict = dict.fromkeys(types,0)\n",
    "for i,k in enumerate(typedict):\n",
    "    typedict[k] = i\n",
    "lst = []\n",
    "for i in lab_all:\n",
    "    lst.append(typedict.get(i))\n",
    "from keras.utils import to_categorical\n",
    "lab_all = to_categorical(lst)\n",
    "\n",
    "df_all = scaler(df_all)\n",
    "history_all = model.fit(x=df_all,y=lab_all,batch_size=64,epochs=12,validation_split=0.2)\n"
   ]
  },
  {
   "cell_type": "code",
   "execution_count": 75,
   "metadata": {
    "id": "JkUKQIUqzy0q"
   },
   "outputs": [],
   "source": [
    "#Accuracy Metrics for 4 letter model\n",
    "from plot_keras_history import plot_history\n",
    "plot_history(history_all, path=\"interpolated_all.png\", interpolate=True)\n",
    "plt.close()"
   ]
  },
  {
   "cell_type": "code",
   "execution_count": 79,
   "metadata": {},
   "outputs": [
    {
     "name": "stdout",
     "output_type": "stream",
     "text": [
      "Train on 6940 samples, validate on 1735 samples\n",
      "Epoch 1/12\n",
      "6940/6940 [==============================] - 19s 3ms/sample - loss: 0.5003 - accuracy: 0.8388 - val_loss: 0.4642 - val_accuracy: 0.7908\n",
      "Epoch 2/12\n",
      "6940/6940 [==============================] - 18s 3ms/sample - loss: 0.4938 - accuracy: 0.8374 - val_loss: 0.4730 - val_accuracy: 0.7885\n",
      "Epoch 3/12\n",
      "6940/6940 [==============================] - 19s 3ms/sample - loss: 0.4812 - accuracy: 0.8442 - val_loss: 0.4688 - val_accuracy: 0.7896\n",
      "Epoch 4/12\n",
      "6940/6940 [==============================] - 17s 2ms/sample - loss: 0.4832 - accuracy: 0.8482 - val_loss: 0.4700 - val_accuracy: 0.7764\n",
      "Epoch 5/12\n",
      "6940/6940 [==============================] - 8s 1ms/sample - loss: 0.4826 - accuracy: 0.8519 - val_loss: 0.4756 - val_accuracy: 0.7902\n",
      "Epoch 6/12\n",
      "6940/6940 [==============================] - 9s 1ms/sample - loss: 0.4528 - accuracy: 0.8579 - val_loss: 0.4743 - val_accuracy: 0.7856\n",
      "Epoch 7/12\n",
      "6940/6940 [==============================] - 9s 1ms/sample - loss: 0.4765 - accuracy: 0.8560 - val_loss: 0.4836 - val_accuracy: 0.7821\n",
      "Epoch 8/12\n",
      "6940/6940 [==============================] - 9s 1ms/sample - loss: 0.4837 - accuracy: 0.8571 - val_loss: 0.4890 - val_accuracy: 0.7758\n",
      "Epoch 9/12\n",
      "6940/6940 [==============================] - 8s 1ms/sample - loss: 0.4645 - accuracy: 0.8654 - val_loss: 0.4852 - val_accuracy: 0.7775\n",
      "Epoch 10/12\n",
      "6940/6940 [==============================] - 9s 1ms/sample - loss: 0.4022 - accuracy: 0.8726 - val_loss: 0.4847 - val_accuracy: 0.7873\n",
      "Epoch 11/12\n",
      "6940/6940 [==============================] - 9s 1ms/sample - loss: 0.4547 - accuracy: 0.8732 - val_loss: 0.4910 - val_accuracy: 0.7758\n",
      "Epoch 12/12\n",
      "6940/6940 [==============================] - 9s 1ms/sample - loss: 0.4236 - accuracy: 0.8720 - val_loss: 0.5326 - val_accuracy: 0.7787\n"
     ]
    }
   ],
   "source": [
    "#I/E Model\n",
    "lab_IE = to_categorical(lab_IE)\n",
    "df_IE = scaler(df_IE)\n",
    "history_IE = model2.fit(x=df_IE,y=lab_IE,batch_size=64,epochs=12,validation_split=0.2)\n"
   ]
  },
  {
   "cell_type": "code",
   "execution_count": 80,
   "metadata": {},
   "outputs": [],
   "source": [
    "#Accuracy Metrics for I/E model\n",
    "plot_history(history_IE, path=\"interpolated_IE.png\", interpolate=True)\n",
    "plt.close()"
   ]
  },
  {
   "cell_type": "code",
   "execution_count": 81,
   "metadata": {},
   "outputs": [
    {
     "name": "stdout",
     "output_type": "stream",
     "text": [
      "Train on 6940 samples, validate on 1735 samples\n",
      "Epoch 1/12\n",
      "6940/6940 [==============================] - 7s 1ms/sample - loss: 0.8184 - accuracy: 0.7659 - val_loss: 0.4707 - val_accuracy: 0.8144\n",
      "Epoch 2/12\n",
      "6940/6940 [==============================] - 7s 1ms/sample - loss: 0.6642 - accuracy: 0.7927 - val_loss: 0.5303 - val_accuracy: 0.7862\n",
      "Epoch 3/12\n",
      "6940/6940 [==============================] - 7s 1ms/sample - loss: 0.6273 - accuracy: 0.8182 - val_loss: 0.4406 - val_accuracy: 0.8173\n",
      "Epoch 4/12\n",
      "6940/6940 [==============================] - 8s 1ms/sample - loss: 0.5320 - accuracy: 0.8434 - val_loss: 0.4073 - val_accuracy: 0.8565\n",
      "Epoch 5/12\n",
      "6940/6940 [==============================] - 10s 1ms/sample - loss: 0.5237 - accuracy: 0.8550 - val_loss: 0.3936 - val_accuracy: 0.8565\n",
      "Epoch 6/12\n",
      "6940/6940 [==============================] - 12s 2ms/sample - loss: 0.5113 - accuracy: 0.8569 - val_loss: 0.3889 - val_accuracy: 0.8571\n",
      "Epoch 7/12\n",
      "6940/6940 [==============================] - 13s 2ms/sample - loss: 0.5009 - accuracy: 0.8586 - val_loss: 0.3855 - val_accuracy: 0.8542\n",
      "Epoch 8/12\n",
      "6940/6940 [==============================] - 14s 2ms/sample - loss: 0.4935 - accuracy: 0.8593 - val_loss: 0.3858 - val_accuracy: 0.8524\n",
      "Epoch 9/12\n",
      "6940/6940 [==============================] - 14s 2ms/sample - loss: 0.4827 - accuracy: 0.8610 - val_loss: 0.3845 - val_accuracy: 0.8536\n",
      "Epoch 10/12\n",
      "6940/6940 [==============================] - 14s 2ms/sample - loss: 0.4895 - accuracy: 0.8602 - val_loss: 0.3846 - val_accuracy: 0.8530\n",
      "Epoch 11/12\n",
      "6940/6940 [==============================] - 13s 2ms/sample - loss: 0.4740 - accuracy: 0.8622 - val_loss: 0.3826 - val_accuracy: 0.8513\n",
      "Epoch 12/12\n",
      "6940/6940 [==============================] - 13s 2ms/sample - loss: 0.4844 - accuracy: 0.8609 - val_loss: 0.3835 - val_accuracy: 0.8490\n"
     ]
    }
   ],
   "source": [
    "#N/S Model\n",
    "lab_NS = to_categorical(lab_NS)\n",
    "df_NS = scaler(df_NS)\n",
    "history_NS = model2.fit(x=df_NS,y=lab_NS,batch_size=64,epochs=12,validation_split=0.2)\n",
    "plot_history(history_NS, path=\"interpolated_NS.png\", interpolate=True)\n",
    "plt.close()\n"
   ]
  },
  {
   "cell_type": "code",
   "execution_count": 82,
   "metadata": {},
   "outputs": [
    {
     "name": "stdout",
     "output_type": "stream",
     "text": [
      "Train on 6940 samples, validate on 1735 samples\n",
      "Epoch 1/12\n",
      "6940/6940 [==============================] - 7s 1ms/sample - loss: 0.9160 - accuracy: 0.6082 - val_loss: 0.6409 - val_accuracy: 0.6300\n",
      "Epoch 2/12\n",
      "6940/6940 [==============================] - 8s 1ms/sample - loss: 0.7578 - accuracy: 0.6608 - val_loss: 0.6066 - val_accuracy: 0.6646\n",
      "Epoch 3/12\n",
      "6940/6940 [==============================] - 10s 1ms/sample - loss: 0.7116 - accuracy: 0.6975 - val_loss: 0.5953 - val_accuracy: 0.6755\n",
      "Epoch 4/12\n",
      "6940/6940 [==============================] - 12s 2ms/sample - loss: 0.6982 - accuracy: 0.7100 - val_loss: 0.5929 - val_accuracy: 0.6784\n",
      "Epoch 5/12\n",
      "6940/6940 [==============================] - 14s 2ms/sample - loss: 0.7110 - accuracy: 0.7169 - val_loss: 0.5890 - val_accuracy: 0.6749\n",
      "Epoch 6/12\n",
      "6940/6940 [==============================] - 15s 2ms/sample - loss: 0.6832 - accuracy: 0.7256 - val_loss: 0.5893 - val_accuracy: 0.6813\n",
      "Epoch 7/12\n",
      "6940/6940 [==============================] - 16s 2ms/sample - loss: 0.6592 - accuracy: 0.7272 - val_loss: 0.5930 - val_accuracy: 0.6761\n",
      "Epoch 8/12\n",
      "6940/6940 [==============================] - 15s 2ms/sample - loss: 0.6697 - accuracy: 0.7291 - val_loss: 0.5930 - val_accuracy: 0.6836\n",
      "Epoch 9/12\n",
      "6940/6940 [==============================] - 15s 2ms/sample - loss: 0.6789 - accuracy: 0.7328 - val_loss: 0.5927 - val_accuracy: 0.6772\n",
      "Epoch 10/12\n",
      "6940/6940 [==============================] - 15s 2ms/sample - loss: 0.6542 - accuracy: 0.7342 - val_loss: 0.5946 - val_accuracy: 0.6813\n",
      "Epoch 11/12\n",
      "6940/6940 [==============================] - 16s 2ms/sample - loss: 0.6527 - accuracy: 0.7395 - val_loss: 0.5937 - val_accuracy: 0.6807\n",
      "Epoch 12/12\n",
      "6940/6940 [==============================] - 16s 2ms/sample - loss: 0.6529 - accuracy: 0.7351 - val_loss: 0.5953 - val_accuracy: 0.6732\n"
     ]
    }
   ],
   "source": [
    "#P/J Model\n",
    "lab_PJ = to_categorical(lab_PJ)\n",
    "df_PJ = scaler(df_PJ)\n",
    "history_PJ = model2.fit(x=df_PJ,y=lab_PJ,batch_size=64,epochs=12,validation_split=0.2)\n",
    "plot_history(history_PJ, path=\"interpolated_PJ.png\", interpolate=True)\n",
    "plt.close()\n"
   ]
  },
  {
   "cell_type": "code",
   "execution_count": 83,
   "metadata": {},
   "outputs": [
    {
     "name": "stdout",
     "output_type": "stream",
     "text": [
      "Train on 6940 samples, validate on 1735 samples\n",
      "Epoch 1/12\n",
      "6940/6940 [==============================] - 8s 1ms/sample - loss: 0.7908 - accuracy: 0.6325 - val_loss: 0.5610 - val_accuracy: 0.7153\n",
      "Epoch 2/12\n",
      "6940/6940 [==============================] - 13s 2ms/sample - loss: 0.6663 - accuracy: 0.7517 - val_loss: 0.5100 - val_accuracy: 0.7533\n",
      "Epoch 3/12\n",
      "6940/6940 [==============================] - 13s 2ms/sample - loss: 0.6057 - accuracy: 0.7745 - val_loss: 0.5030 - val_accuracy: 0.7539\n",
      "Epoch 4/12\n",
      "6940/6940 [==============================] - 13s 2ms/sample - loss: 0.5987 - accuracy: 0.7823 - val_loss: 0.5053 - val_accuracy: 0.7539\n",
      "Epoch 5/12\n",
      "6940/6940 [==============================] - 13s 2ms/sample - loss: 0.6041 - accuracy: 0.7818 - val_loss: 0.5092 - val_accuracy: 0.7522\n",
      "Epoch 6/12\n",
      "6940/6940 [==============================] - 14s 2ms/sample - loss: 0.5812 - accuracy: 0.7919 - val_loss: 0.5064 - val_accuracy: 0.7550\n",
      "Epoch 7/12\n",
      "6940/6940 [==============================] - 14s 2ms/sample - loss: 0.5780 - accuracy: 0.7947 - val_loss: 0.5090 - val_accuracy: 0.7539\n",
      "Epoch 8/12\n",
      "6940/6940 [==============================] - 15s 2ms/sample - loss: 0.5915 - accuracy: 0.7929 - val_loss: 0.5141 - val_accuracy: 0.7499\n",
      "Epoch 9/12\n",
      "6940/6940 [==============================] - 15s 2ms/sample - loss: 0.5606 - accuracy: 0.7953 - val_loss: 0.5154 - val_accuracy: 0.7424\n",
      "Epoch 10/12\n",
      "6940/6940 [==============================] - 16s 2ms/sample - loss: 0.5887 - accuracy: 0.7979 - val_loss: 0.5153 - val_accuracy: 0.7481\n",
      "Epoch 11/12\n",
      "6940/6940 [==============================] - 22s 3ms/sample - loss: 0.5627 - accuracy: 0.8009 - val_loss: 0.5157 - val_accuracy: 0.7418\n",
      "Epoch 12/12\n",
      "6940/6940 [==============================] - 22s 3ms/sample - loss: 0.5538 - accuracy: 0.8072 - val_loss: 0.5136 - val_accuracy: 0.7533\n"
     ]
    }
   ],
   "source": [
    "#F/T Model\n",
    "lab_FT = to_categorical(lab_FT)\n",
    "df_FT = scaler(df_FT)\n",
    "history_FT = model2.fit(x=df_FT,y=lab_FT,batch_size=64,epochs=12,validation_split=0.2)\n",
    "plot_history(history_FT, path=\"interpolated_FT.png\", interpolate=True)\n",
    "plt.close()\n"
   ]
  }
 ],
 "metadata": {
  "colab": {
   "name": "NeuralNetwork.ipynb",
   "provenance": []
  },
  "kernelspec": {
   "display_name": "Python 3 (ipykernel)",
   "language": "python",
   "name": "python3"
  },
  "language_info": {
   "codemirror_mode": {
    "name": "ipython",
    "version": 3
   },
   "file_extension": ".py",
   "mimetype": "text/x-python",
   "name": "python",
   "nbconvert_exporter": "python",
   "pygments_lexer": "ipython3",
   "version": "3.10.9"
  }
 },
 "nbformat": 4,
 "nbformat_minor": 1
}
